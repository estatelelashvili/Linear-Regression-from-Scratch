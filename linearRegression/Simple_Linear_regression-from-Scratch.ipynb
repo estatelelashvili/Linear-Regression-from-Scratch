{
 "cells": [
  {
   "cell_type": "markdown",
   "metadata": {},
   "source": [
    "# Simple Linear Regression in Plain Python"
   ]
  },
  {
   "cell_type": "markdown",
   "metadata": {},
   "source": [
    "Predicting IQ score by Logical reasoning score.\n"
   ]
  },
  {
   "cell_type": "markdown",
   "metadata": {},
   "source": [
    "The Tutorial is inspired and based on Eugene O'Loughlin's beautiful Youtube lecture \"How To... Perform Simple Linear Regression by Hand\".\n",
    "\n",
    "[Video Link](https://www.youtube.com/watch?v=GhrxgbQnEEU&t=208s)\n"
   ]
  },
  {
   "cell_type": "code",
   "execution_count": 57,
   "metadata": {},
   "outputs": [],
   "source": [
    "def calculate_mean(X_list):\n",
    "    \n",
    "    num_sum = 0\n",
    "    \n",
    "    for x in X_list:\n",
    "        \n",
    "        num_sum += x\n",
    "        \n",
    "    return num_sum/len(X_list)"
   ]
  },
  {
   "cell_type": "markdown",
   "metadata": {},
   "source": [
    "<img src=\"MEAN.PNG\" style=\"width:150px;height:100px;\">"
   ]
  },
  {
   "cell_type": "code",
   "execution_count": 58,
   "metadata": {},
   "outputs": [],
   "source": [
    "def zipp(x,y):\n",
    "    \n",
    "    zipp = []\n",
    "    \n",
    "    for i in range(len(x)):\n",
    "        \n",
    "        zipp.append((x[i], y[i]))\n",
    "        \n",
    "    return zipp"
   ]
  },
  {
   "cell_type": "markdown",
   "metadata": {},
   "source": [
    "<img src=\"correl.PNG\" style=\"width:250px;height:100px;\">"
   ]
  },
  {
   "cell_type": "code",
   "execution_count": 59,
   "metadata": {},
   "outputs": [],
   "source": [
    "def pearson_correlation(list_X, list_Y):\n",
    "    \n",
    "    numerator = 0\n",
    "    sumX_2 = 0\n",
    "    sumY_2 = 0\n",
    "    \n",
    "    for x,y in zipp(list_X, list_Y):\n",
    "        \n",
    "        numerator += (x - calculate_mean(list_X))*(y-calculate_mean(list_Y))\n",
    "        sumX_2 += ((x - calculate_mean(list_X))**2)\n",
    "        sumY_2 += (y - calculate_mean(list_Y))**2\n",
    "        \n",
    "    denominator = ( sumX_2 * sumY_2)**(1/2)\n",
    "    r = numerator/denominator\n",
    "    \n",
    "    return r\n"
   ]
  },
  {
   "cell_type": "markdown",
   "metadata": {},
   "source": [
    "<img src=\"SD.PNG\" style=\"width:250px;height:150px;\">"
   ]
  },
  {
   "cell_type": "code",
   "execution_count": 60,
   "metadata": {},
   "outputs": [],
   "source": [
    "def standard_deviation(X):\n",
    "    \n",
    "    fraction_sqrt = 0\n",
    "    sum_x_diff_sqrd = 0\n",
    "    \n",
    "    for i in X:\n",
    "        \n",
    "        sum_x_diff_sqrd += ((i - calculate_mean(X))**2)\n",
    "        \n",
    "    fraction_sqrt = ((sum_x_diff_sqrd/(len(X) - 1))**(1/2))\n",
    "    \n",
    "    return  fraction_sqrt"
   ]
  },
  {
   "cell_type": "markdown",
   "metadata": {},
   "source": [
    "<img src=\"slope.PNG\" style=\"width:200px;height:130px;\">"
   ]
  },
  {
   "cell_type": "code",
   "execution_count": 61,
   "metadata": {},
   "outputs": [],
   "source": [
    "def slope_function(x,y):\n",
    "    \n",
    "    b = (standard_deviation(y)/standard_deviation(x))*(pearson_correlation(x,y))\n",
    "    \n",
    "    return b"
   ]
  },
  {
   "cell_type": "markdown",
   "metadata": {},
   "source": [
    "<img src=\"yinter.PNG\" style=\"width:200px;height:100px;\">"
   ]
  },
  {
   "cell_type": "code",
   "execution_count": 62,
   "metadata": {},
   "outputs": [],
   "source": [
    "def y_intercept(x,y):\n",
    "    \n",
    "    a = calculate_mean(y) - ((slope_function(x,y))*(calculate_mean(x)))\n",
    "    \n",
    "    return a"
   ]
  },
  {
   "cell_type": "markdown",
   "metadata": {},
   "source": [
    "<img src=\"linear.PNG\" style=\"width:250px;height:100px;\">"
   ]
  },
  {
   "cell_type": "code",
   "execution_count": 63,
   "metadata": {},
   "outputs": [],
   "source": [
    "def linear_regression(y, x, z):\n",
    "    \n",
    "    yhat = []\n",
    "    \n",
    "    for i in range(len(z)):\n",
    "        \n",
    "        yhat.append((y_intercept(x,y))+(slope_function(x,y)*z[i]))\n",
    "        \n",
    "    return yhat"
   ]
  },
  {
   "cell_type": "code",
   "execution_count": 64,
   "metadata": {},
   "outputs": [
    {
     "name": "stdout",
     "output_type": "stream",
     "text": [
      "Test Logical Reasoning Score:  11 | Predicted IQ Score:  87.0\n",
      "Test Logical Reasoning Score:  5 | Predicted IQ Score:  66.0\n",
      "Test Logical Reasoning Score:  7 | Predicted IQ Score:  73.0\n",
      "Test Logical Reasoning Score:  4 | Predicted IQ Score:  62.0\n",
      "Test Logical Reasoning Score:  3 | Predicted IQ Score:  59.0\n",
      "Test Logical Reasoning Score:  6 | Predicted IQ Score:  69.0\n",
      "Test Logical Reasoning Score:  8 | Predicted IQ Score:  76.0\n",
      "Test Logical Reasoning Score:  9 | Predicted IQ Score:  80.0\n",
      "Test Logical Reasoning Score:  10 | Predicted IQ Score:  83.0\n",
      "Test Logical Reasoning Score:  12 | Predicted IQ Score:  90.0\n",
      "Test Logical Reasoning Score:  13 | Predicted IQ Score:  94.0\n",
      "Test Logical Reasoning Score:  14 | Predicted IQ Score:  98.0\n"
     ]
    }
   ],
   "source": [
    "#IQ - Intelligence Quotinet\n",
    "#LRS - Logical Reasoning Score\n",
    "\n",
    "import csv\n",
    "\n",
    "IQ = []\n",
    "LRS = []\n",
    "\n",
    "with open('IQ_LRS.csv', mode ='r')as file:  \n",
    "    csvFile = csv.reader(file)\n",
    "    \n",
    "    for row in csvFile:\n",
    "        \n",
    "        if row[0].isnumeric():\n",
    "            IQ.append(int(row[0]))\n",
    "            LRS.append(int(row[1]))\n",
    "            \n",
    "test_LRS = [11, 5, 7, 4, 3, 6, 8, 9, 10, 12, 13, 14]\n",
    "IQpredicted  = linear_regression(IQ, LRS, test_LRS)\n",
    "\n",
    "for i, j in zipp(test_LRS, IQpredicted):\n",
    "    \n",
    "    print(\"Test Logical Reasoning Score: \", i,\"|\", \"Predicted IQ Score: \", round(j, 0))"
   ]
  },
  {
   "cell_type": "markdown",
   "metadata": {},
   "source": [
    "Reference: Eugene O'Loughlin, \"How To... Perform Simple Linear Regression by Hand\", 2015.\n",
    "[Video Link](https://www.youtube.com/watch?v=GhrxgbQnEEU&t=208s)"
   ]
  }
 ],
 "metadata": {
  "kernelspec": {
   "display_name": "Python 3",
   "language": "python",
   "name": "python3"
  },
  "language_info": {
   "codemirror_mode": {
    "name": "ipython",
    "version": 3
   },
   "file_extension": ".py",
   "mimetype": "text/x-python",
   "name": "python",
   "nbconvert_exporter": "python",
   "pygments_lexer": "ipython3",
   "version": "3.7.9"
  }
 },
 "nbformat": 4,
 "nbformat_minor": 4
}
